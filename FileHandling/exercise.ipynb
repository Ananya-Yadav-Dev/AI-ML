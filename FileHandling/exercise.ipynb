{
 "cells": [
  {
   "cell_type": "code",
   "execution_count": 5,
   "id": "de4403cc",
   "metadata": {},
   "outputs": [
    {
     "name": "stdout",
     "output_type": "stream",
     "text": [
      "this is a sample file\n",
      "it is only created for testing\n"
     ]
    }
   ],
   "source": [
    "def readFile(file):\n",
    "    with open(file,'r') as file:\n",
    "        # for line in file:\n",
    "        #     print(line.strip())\n",
    "        content = file.read()\n",
    "        print(content)\n",
    "file='sample.txt'\n",
    "readFile(file)"
   ]
  },
  {
   "cell_type": "code",
   "execution_count": null,
   "id": "0db4e937",
   "metadata": {},
   "outputs": [],
   "source": [
    "list = [\"one\",\"two\"]\n",
    "# writelines()\n",
    "# Expects an iterable of strings (like a list or tuple).\n",
    "with open('output.txt','w') as file:\n",
    "    file.writelines(line+\"\\n\" for line in list)"
   ]
  },
  {
   "cell_type": "code",
   "execution_count": null,
   "id": "47495962",
   "metadata": {},
   "outputs": [],
   "source": [
    "with open('sample.txt','r') as file:\n",
    "    # file here is a file object (like a handle or pointer to the file on disk).\n",
    "# It is not a string.\n",
    "# You can use methods like .read(), .write(), .writelines(), .readline(), etc. on it.\n",
    "    content = file.read()\n",
    "    content = content.replace(\"file\",'textfile')\n",
    "\n",
    "with open('data.txt','w') as file:\n",
    "    file.write(content)"
   ]
  },
  {
   "cell_type": "code",
   "execution_count": null,
   "id": "9d72d9b0",
   "metadata": {},
   "outputs": [],
   "source": [
    "#reverse whole\n",
    "with open('sample.txt','r') as file:\n",
    "    content = file.read()\n",
    "    content = content[::-1]\n",
    "with open('reverse.txt','w') as file:\n",
    "    file.write(content)"
   ]
  },
  {
   "cell_type": "code",
   "execution_count": null,
   "id": "055cc5c2",
   "metadata": {},
   "outputs": [],
   "source": [
    "with open('sample.txt','r') as source_txt:\n",
    "    content = source_txt.read()\n",
    "# write()\n",
    "# Expects a single string.\n",
    "with open('destination.txt','w') as destination_txt:\n",
    "    destination_txt.write(content)"
   ]
  },
  {
   "cell_type": "code",
   "execution_count": 2,
   "id": "3a348239",
   "metadata": {},
   "outputs": [
    {
     "name": "stdout",
     "output_type": "stream",
     "text": [
      "Its only for testing files\n",
      "This is sample file\n",
      "\n"
     ]
    }
   ],
   "source": [
    "#reverse lines\n",
    "\n",
    "with open('sample.txt','r') as file:\n",
    "    content = file.readlines()\n",
    "    # content = content[::-1]\n",
    "    for line in reversed(content):\n",
    "        print(line)\n",
    "    # print(content)"
   ]
  },
  {
   "cell_type": "code",
   "execution_count": null,
   "id": "50ba5ee2",
   "metadata": {},
   "outputs": [
    {
     "name": "stdout",
     "output_type": "stream",
     "text": [
      "lines:2 , words:9, char_cnt:38\n"
     ]
    }
   ],
   "source": [
    "#count\n",
    "with open('sample.txt','r') as file:\n",
    "    lines = file.readlines()\n",
    "    line_cnt = len(lines)\n",
    "    word_cnt = sum(len(line.split()) for line in lines)#counts everything: letters + digits + punctuation + spaces + \\n.\n",
    "    # char_cnt = sum(len(line) for line in lines)\n",
    "    # .strip() → removes leading/trailing whitespace + \\n.\n",
    "    char_cnt = sum(len(line.replace(\" \", \"\").strip()) for line in lines)\n",
    "print(f'lines:{line_cnt} , words:{word_cnt}, char_cnt:{char_cnt}')"
   ]
  },
  {
   "cell_type": "code",
   "execution_count": 11,
   "id": "fcb0d9c0",
   "metadata": {},
   "outputs": [
    {
     "name": "stdout",
     "output_type": "stream",
     "text": [
      "This is sample file\n",
      "Its only for testing filesIts only for testing files\n",
      "This is sample file\n"
     ]
    }
   ],
   "source": [
    "#merge file\n",
    "with open('sample.txt','r') as file:\n",
    "    content1 = file.read()\n",
    "with open('reverse.txt','r') as file:\n",
    "    content2 = file.read()\n",
    "with open('merge.txt','w+') as file:\n",
    "    merged_content = content1+content2\n",
    "    file.write(merged_content)\n",
    "    file.seek(0)\n",
    "    view = file.read()\n",
    "    print(view)"
   ]
  },
  {
   "cell_type": "code",
   "execution_count": null,
   "id": "418bb97e",
   "metadata": {},
   "outputs": [
    {
     "name": "stdout",
     "output_type": "stream",
     "text": [
      "This is sample file\n",
      "Its only for testing files\n",
      "Its only for testing files\n",
      "This is sample file\n",
      "This is sample textfile\n"
     ]
    }
   ],
   "source": [
    "#merge better approach\n",
    "file_to_merge = ['sample.txt','reverse.txt','data.txt']\n",
    "with open('merge.txt','w+') as outfile:\n",
    "    # \"w\" / \"w+\" always truncates (empties) the file as soon as you open it.\n",
    "    for file in file_to_merge:\n",
    "        with open(file,'r') as infile:\n",
    "            outfile.write(infile.read() + '\\n')\n",
    "    outfile.seek(0)\n",
    "    for file in outfile:\n",
    "        print(file,end=\"\")\n"
   ]
  },
  {
   "cell_type": "code",
   "execution_count": null,
   "id": "301d4c69",
   "metadata": {},
   "outputs": [
    {
     "ename": "FileNotFoundError",
     "evalue": "[Errno 2] No such file or directory: 'large.txt'",
     "output_type": "error",
     "traceback": [
      "\u001b[31m---------------------------------------------------------------------------\u001b[39m",
      "\u001b[31mFileNotFoundError\u001b[39m                         Traceback (most recent call last)",
      "\u001b[36mCell\u001b[39m\u001b[36m \u001b[39m\u001b[32mIn[7]\u001b[39m\u001b[32m, line 3\u001b[39m\n\u001b[32m      1\u001b[39m \u001b[38;5;66;03m#split large file into smaller files of 100 lines each\u001b[39;00m\n\u001b[32m      2\u001b[39m sfile=\u001b[38;5;28;01mNone\u001b[39;00m\n\u001b[32m----> \u001b[39m\u001b[32m3\u001b[39m \u001b[38;5;28;01mwith\u001b[39;00m \u001b[38;5;28;43mopen\u001b[39;49m\u001b[43m(\u001b[49m\u001b[33;43m'\u001b[39;49m\u001b[33;43mlarge.txt\u001b[39;49m\u001b[33;43m'\u001b[39;49m\u001b[43m,\u001b[49m\u001b[33;43m'\u001b[39;49m\u001b[33;43mr\u001b[39;49m\u001b[33;43m'\u001b[39;49m\u001b[43m)\u001b[49m \u001b[38;5;28;01mas\u001b[39;00m lfile:\n\u001b[32m      4\u001b[39m     lines=lfile.readlines()\n\u001b[32m      5\u001b[39m     \u001b[38;5;28;01mfor\u001b[39;00m line_num,line \u001b[38;5;129;01min\u001b[39;00m \u001b[38;5;28menumerate\u001b[39m(lines,start=\u001b[32m1\u001b[39m):\n",
      "\u001b[36mFile \u001b[39m\u001b[32m~\\AppData\\Roaming\\Python\\Python313\\site-packages\\IPython\\core\\interactiveshell.py:343\u001b[39m, in \u001b[36m_modified_open\u001b[39m\u001b[34m(file, *args, **kwargs)\u001b[39m\n\u001b[32m    336\u001b[39m \u001b[38;5;28;01mif\u001b[39;00m file \u001b[38;5;129;01min\u001b[39;00m {\u001b[32m0\u001b[39m, \u001b[32m1\u001b[39m, \u001b[32m2\u001b[39m}:\n\u001b[32m    337\u001b[39m     \u001b[38;5;28;01mraise\u001b[39;00m \u001b[38;5;167;01mValueError\u001b[39;00m(\n\u001b[32m    338\u001b[39m         \u001b[33mf\u001b[39m\u001b[33m\"\u001b[39m\u001b[33mIPython won\u001b[39m\u001b[33m'\u001b[39m\u001b[33mt let you open fd=\u001b[39m\u001b[38;5;132;01m{\u001b[39;00mfile\u001b[38;5;132;01m}\u001b[39;00m\u001b[33m by default \u001b[39m\u001b[33m\"\u001b[39m\n\u001b[32m    339\u001b[39m         \u001b[33m\"\u001b[39m\u001b[33mas it is likely to crash IPython. If you know what you are doing, \u001b[39m\u001b[33m\"\u001b[39m\n\u001b[32m    340\u001b[39m         \u001b[33m\"\u001b[39m\u001b[33myou can use builtins\u001b[39m\u001b[33m'\u001b[39m\u001b[33m open.\u001b[39m\u001b[33m\"\u001b[39m\n\u001b[32m    341\u001b[39m     )\n\u001b[32m--> \u001b[39m\u001b[32m343\u001b[39m \u001b[38;5;28;01mreturn\u001b[39;00m \u001b[43mio_open\u001b[49m\u001b[43m(\u001b[49m\u001b[43mfile\u001b[49m\u001b[43m,\u001b[49m\u001b[43m \u001b[49m\u001b[43m*\u001b[49m\u001b[43margs\u001b[49m\u001b[43m,\u001b[49m\u001b[43m \u001b[49m\u001b[43m*\u001b[49m\u001b[43m*\u001b[49m\u001b[43mkwargs\u001b[49m\u001b[43m)\u001b[49m\n",
      "\u001b[31mFileNotFoundError\u001b[39m: [Errno 2] No such file or directory: 'large.txt'"
     ]
    }
   ],
   "source": [
    "#split large file into smaller files of 100 lines each\n",
    "sfile=None\n",
    "idx = 1\n",
    "with open('large.txt','r') as lfile:\n",
    "    lines=lfile.readlines()\n",
    "    for line_num,line in enumerate(lines,start=1):\n",
    "        if line_num%100==1:\n",
    "            if sfile:\n",
    "                sfile.close()#When you open the next chunk file, the old one might not save all lines, or you might hit a “too many files open” error for very large files.\n",
    "                filename = f'small{idx}.txt'\n",
    "                sfile = open(filename,'w')\n",
    "                idx+=1\n",
    "        sfile.write(line)\n",
    "if sfile:\n",
    "    sfile.close() #close the last chunck\n"
   ]
  },
  {
   "cell_type": "code",
   "execution_count": 12,
   "id": "bc9d88ed",
   "metadata": {},
   "outputs": [],
   "source": [
    "#Log message\n",
    "from datetime import datetime\n",
    "with open('sample.txt','a') as logfile:\n",
    "    timestamp = datetime.now().strftime('%d/%m/%Y,%H:%M:%S')\n",
    "    logfile.write(f\"{timestamp} logged message\\n\")\n",
    "\n"
   ]
  },
  {
   "cell_type": "code",
   "execution_count": 11,
   "id": "dd49943c",
   "metadata": {},
   "outputs": [],
   "source": [
    "#Binary file\n",
    "with open('example.bin','rb') as binfile:\n",
    "    content = binfile.read()\n",
    "with open('copy_binfile.bin','wb') as copyfile:\n",
    "    copyfile.write(content) "
   ]
  },
  {
   "cell_type": "code",
   "execution_count": 16,
   "id": "36866e18",
   "metadata": {},
   "outputs": [
    {
     "name": "stdout",
     "output_type": "stream",
     "text": [
      "{'Name': 'Alice', 'Age': '14', 'Grade': 'A'}\n",
      "{'Name': 'Bob', 'Age': '15', 'Grade': 'B'}\n",
      "{'Name': 'Charlie', 'Age': '14', 'Grade': 'A'}\n"
     ]
    }
   ],
   "source": [
    "#csv\n",
    "# CSV = Comma-Separated Values\n",
    "# It’s a plain text file where data is organized in rows and columns.\n",
    "# Each row is one record, and columns are separated by commas (,).\n",
    "import csv\n",
    "with open('data.csv','r') as file:\n",
    "    reader = csv.DictReader(file)\n",
    "    # print(reader) reader is a DictReader object, which is an iterator, not the data itself.\n",
    "    for row in reader:\n",
    "        print(row)"
   ]
  },
  {
   "cell_type": "code",
   "execution_count": null,
   "id": "d9fafc43",
   "metadata": {},
   "outputs": [
    {
     "name": "stdout",
     "output_type": "stream",
     "text": [
      "{'name': 'Alice', 'age': 14, 'subjects': ['Math', 'English']}\n"
     ]
    }
   ],
   "source": [
    "#JSON\n",
    "# json.load() → reads JSON from a file and converts it to Python dict/list\n",
    "# json.dumps() → converts Python dict/list to JSON string (useful for writing)\n",
    "import json\n",
    "with open('data.json','r') as file:\n",
    "    content = json.load(file)\n",
    "    print(content)"
   ]
  },
  {
   "cell_type": "code",
   "execution_count": null,
   "id": "a725b78e",
   "metadata": {},
   "outputs": [],
   "source": [
    "try:\n",
    "    with open('example.txt','r') as file:\n",
    "        # Always use with for safe file handling; it ensures the file is closed properly.\n",
    "        content = file.read()\n",
    "except Exception as e:\n",
    "    # In Python, all errors inherit from the base class Exception.\n",
    "    print(f'Error:{e}')"
   ]
  }
 ],
 "metadata": {
  "kernelspec": {
   "display_name": "venv",
   "language": "python",
   "name": "python3"
  },
  "language_info": {
   "codemirror_mode": {
    "name": "ipython",
    "version": 3
   },
   "file_extension": ".py",
   "mimetype": "text/x-python",
   "name": "python",
   "nbconvert_exporter": "python",
   "pygments_lexer": "ipython3",
   "version": "3.13.5"
  }
 },
 "nbformat": 4,
 "nbformat_minor": 5
}
