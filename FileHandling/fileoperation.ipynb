{
 "cells": [
  {
   "cell_type": "code",
   "execution_count": null,
   "id": "bdda7270",
   "metadata": {},
   "outputs": [
    {
     "name": "stdout",
     "output_type": "stream",
     "text": [
      "Hi,How are you!\n",
      "Hello World\n"
     ]
    }
   ],
   "source": [
    "#read a file\n",
    "with open('example.txt','r') as file:\n",
    "    for line in file:\n",
    "        print(line.strip())"
   ]
  },
  {
   "cell_type": "code",
   "execution_count": 8,
   "id": "f8df2c89",
   "metadata": {},
   "outputs": [],
   "source": [
    "#writing a file\n",
    "with open('example.txt','w') as file: #overwrites the prev file\n",
    "    file.write('Hello World\\n')\n",
    "    file.write('this is a new line\\n')\n"
   ]
  },
  {
   "cell_type": "code",
   "execution_count": 9,
   "id": "0404cd54",
   "metadata": {},
   "outputs": [],
   "source": [
    "#Writing a file without overwriting\n",
    "with open('example.txt','a') as file:\n",
    "    file.write(\"Append operation taking place\\n\")"
   ]
  },
  {
   "cell_type": "code",
   "execution_count": 10,
   "id": "3c7c9a76",
   "metadata": {},
   "outputs": [],
   "source": [
    "#Write list of lines\n",
    "lines = [\"First line\\n\",\"Second line\\n\"]\n",
    "with open('example.txt','a') as file:\n",
    "    file.writelines(lines)"
   ]
  },
  {
   "cell_type": "code",
   "execution_count": 11,
   "id": "5b805fea",
   "metadata": {},
   "outputs": [],
   "source": [
    "##Binary Files\n",
    "#Write a binary File\n",
    "data =b'\\x00\\x01\\x02\\x03\\x04'\n",
    "with open('example.bin','wb') as file:\n",
    "    file.write(data)\n"
   ]
  },
  {
   "cell_type": "code",
   "execution_count": 12,
   "id": "2fcf7dff",
   "metadata": {},
   "outputs": [
    {
     "name": "stdout",
     "output_type": "stream",
     "text": [
      "b'\\x00\\x01\\x02\\x03\\x04'\n"
     ]
    }
   ],
   "source": [
    "#Read binary file\n",
    "with open('example.bin','rb') as file:\n",
    "    content = file.read()\n",
    "    print(content)"
   ]
  },
  {
   "cell_type": "code",
   "execution_count": 14,
   "id": "745eba26",
   "metadata": {},
   "outputs": [],
   "source": [
    "#copying a text file\n",
    "with open('example.txt','r') as source_file:\n",
    "    content = source_file.read()\n",
    "\n",
    "with open('destination.txt','w') as destination_file:\n",
    "    destination_file.write(content)"
   ]
  },
  {
   "cell_type": "code",
   "execution_count": 15,
   "id": "4acd855d",
   "metadata": {},
   "outputs": [
    {
     "name": "stdout",
     "output_type": "stream",
     "text": [
      "Line:5,words:15,char:84\n"
     ]
    }
   ],
   "source": [
    "#read a text file and read the number of lines,words and characters\n",
    "def count_text_file(file_path):\n",
    "    with open(file_path,'r') as file:\n",
    "        lines = file.readlines()\n",
    "        line_count = len(lines)\n",
    "        word_count = sum(len(line.split()) for line in lines)\n",
    "        char_count  = sum(len(line) for line in lines)\n",
    "    return line_count,word_count,char_count\n",
    "\n",
    "file_path = 'example.txt'\n",
    "line_cnt,word_cnt,char_cnt=count_text_file(file_path)\n",
    "print(f'Line:{line_cnt},words:{word_cnt},char:{char_cnt}')"
   ]
  },
  {
   "cell_type": "code",
   "execution_count": 16,
   "id": "5f8fc7a1",
   "metadata": {},
   "outputs": [
    {
     "name": "stdout",
     "output_type": "stream",
     "text": [
      "hello world\n",
      "this is 2nd line\n",
      "\n"
     ]
    }
   ],
   "source": [
    "#W+ mode in python is used to open a file for both Writing and reading\n",
    "with open('example2.txt','w+') as file:\n",
    "    file.write(\"hello world\\n\")\n",
    "    file.write(\"this is 2nd line\\n\")\n",
    "\n",
    "    file.seek(0)\n",
    "    content = file.read()\n",
    "    print(content)"
   ]
  },
  {
   "cell_type": "code",
   "execution_count": 18,
   "id": "c1737bf4",
   "metadata": {},
   "outputs": [
    {
     "name": "stdout",
     "output_type": "stream",
     "text": [
      "Dir:package\n"
     ]
    }
   ],
   "source": [
    "import os\n",
    "#create new directory\n",
    "new_directory=\"package\"\n",
    "os.mkdir(new_directory)\n",
    "print(f'Dir:{new_directory}')"
   ]
  },
  {
   "cell_type": "code",
   "execution_count": 19,
   "id": "07d97dcf",
   "metadata": {},
   "outputs": [
    {
     "name": "stdout",
     "output_type": "stream",
     "text": [
      "['destination.txt', 'example.bin', 'example.txt', 'example2.txt', 'fileoperation.ipynb', 'package']\n"
     ]
    }
   ],
   "source": [
    "##Listing files and directories\n",
    "items=os.listdir('.')\n",
    "print(items)"
   ]
  },
  {
   "cell_type": "code",
   "execution_count": 27,
   "id": "033865df",
   "metadata": {},
   "outputs": [
    {
     "name": "stdout",
     "output_type": "stream",
     "text": [
      "c:\\Users\\ANANYA\\OneDrive\\Desktop\\AI_ML\\FileHandling\\folder\\file.txt\n"
     ]
    }
   ],
   "source": [
    "#Joining path\n",
    "dir_name=\"folder\"\n",
    "file_name=\"file.txt\"\n",
    "full_path=os.path.join(os.getcwd(),dir_name,file_name)\n",
    "print(full_path)"
   ]
  },
  {
   "cell_type": "code",
   "execution_count": 28,
   "id": "c13c7a68",
   "metadata": {},
   "outputs": [
    {
     "name": "stdout",
     "output_type": "stream",
     "text": [
      "c:\\Users\\ANANYA\\OneDrive\\Desktop\\AI_ML\\FileHandling\\example2.txt\n"
     ]
    }
   ],
   "source": [
    "relative_path = 'example2.txt'\n",
    "absolute_path = os.path.abspath(relative_path)\n",
    "print(absolute_path)"
   ]
  },
  {
   "cell_type": "code",
   "execution_count": 26,
   "id": "940d9721",
   "metadata": {},
   "outputs": [
    {
     "name": "stdout",
     "output_type": "stream",
     "text": [
      "The path ../requirements.txt is a file\n"
     ]
    }
   ],
   "source": [
    "#check if a path is a file or direvctory\n",
    "path='../requirements.txt'\n",
    "if os.path.exists(path):\n",
    "    if os.path.isfile(path):\n",
    "        print(f'The path {path} is a file')\n",
    "    elif os.path.isdir(path):\n",
    "        print(f'The path {path} is a directory')\n",
    "else:\n",
    "    print('Neither file nor directory')"
   ]
  }
 ],
 "metadata": {
  "kernelspec": {
   "display_name": "venv",
   "language": "python",
   "name": "python3"
  },
  "language_info": {
   "codemirror_mode": {
    "name": "ipython",
    "version": 3
   },
   "file_extension": ".py",
   "mimetype": "text/x-python",
   "name": "python",
   "nbconvert_exporter": "python",
   "pygments_lexer": "ipython3",
   "version": "3.13.5"
  }
 },
 "nbformat": 4,
 "nbformat_minor": 5
}
