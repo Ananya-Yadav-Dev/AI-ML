{
 "cells": [
  {
   "cell_type": "code",
   "execution_count": null,
   "id": "7b9a3ca9",
   "metadata": {},
   "outputs": [
    {
     "name": "stdout",
     "output_type": "stream",
     "text": [
      "Buddy says Woof!\n",
      "Whiskers says Meow!\n"
     ]
    }
   ],
   "source": [
    "### Inheritance (Single)\n",
    "# Parent class\n",
    "class Animal:\n",
    "    def __init__(self, name):\n",
    "        self.name = name\n",
    "    \n",
    "    def speak(self):\n",
    "        print(f\"{self.name} makes a sound.\")\n",
    "\n",
    "# Child Class 1\n",
    "class Dog(Animal):\n",
    "    def __init__(self,name,breed):\n",
    "        #super means call parent class and then call init of parent class\n",
    "        super().__init__(name)\n",
    "    def speak(self):\n",
    "        print(f\"{self.name} says Woof!\")\n",
    "\n",
    "# Child Class 2\n",
    "class Cat(Animal):\n",
    "    def speak(self):\n",
    "        print(f\"{self.name} says Meow!\")\n",
    "\n",
    "\n",
    "# Using the classes\n",
    "dog = Dog(\"Buddy\",\"Labrador\")\n",
    "cat = Cat(\"Whiskers\")\n",
    "\n",
    "dog.speak()\n",
    "cat.speak()\n",
    "\n"
   ]
  },
  {
   "cell_type": "code",
   "execution_count": null,
   "id": "b84bd7e3",
   "metadata": {},
   "outputs": [
    {
     "name": "stdout",
     "output_type": "stream",
     "text": [
      "Juno is a dog and my owner is Adn.\n"
     ]
    }
   ],
   "source": [
    "##Multiple inheritance\n",
    "#when a class inherits from more than one base class.\n",
    "\n",
    "#Base class 1\n",
    "class Animal:\n",
    "    def __init__(self,name):\n",
    "        self.name = name\n",
    "\n",
    "    def speak(self):\n",
    "        print(f\"{self.name} is an animal.It makes sound\")\n",
    "\n",
    "#Base Class 2\n",
    "class Pet:\n",
    "    def __init__(self,owner):\n",
    "        self.owner= owner\n",
    "    \n",
    "    def speak(self):\n",
    "        print(f\"{self.owner} is the owner of{self.name}\")\n",
    "\n",
    "#Derived class\n",
    "class Dog(Animal,Pet):\n",
    "    def __init__(self,name,owner):\n",
    "        Animal.__init__(self,name)\n",
    "        Pet.__init__(self,owner)\n",
    "    \n",
    "    def speak(self):\n",
    "        print(f\"{self.name} is a dog and my owner is {self.owner}.\")\n",
    "\n",
    "dog1 = Dog(\"Juno\",\"Adn\")\n",
    "dog1.speak()\n",
    "\n",
    "\n"
   ]
  }
 ],
 "metadata": {
  "kernelspec": {
   "display_name": "venv",
   "language": "python",
   "name": "python3"
  },
  "language_info": {
   "codemirror_mode": {
    "name": "ipython",
    "version": 3
   },
   "file_extension": ".py",
   "mimetype": "text/x-python",
   "name": "python",
   "nbconvert_exporter": "python",
   "pygments_lexer": "ipython3",
   "version": "3.13.5"
  }
 },
 "nbformat": 4,
 "nbformat_minor": 5
}
