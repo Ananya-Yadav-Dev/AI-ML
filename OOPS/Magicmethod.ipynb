{
 "cells": [
  {
   "cell_type": "markdown",
   "id": "d9a51e38",
   "metadata": {},
   "source": [
    "### Magic Method\n",
    "\n",
    "Magic methods are predefined methods in python that you can override to change the behaviour of your objects.These methods define the behaviour of objects for builtin operations such as arithmetic. some common magic methods include:\n",
    "\n",
    "'''\n",
    "__init__': Initializes a new instance of a class.\n",
    "__len__: Returns the length of an object\n",
    "__str__: Returns a string representation of an object\n",
    "'''"
   ]
  },
  {
   "cell_type": "code",
   "execution_count": null,
   "id": "15f1c193",
   "metadata": {},
   "outputs": [
    {
     "data": {
      "text/plain": [
       "['__class__',\n",
       " '__delattr__',\n",
       " '__dict__',\n",
       " '__dir__',\n",
       " '__doc__',\n",
       " '__eq__',\n",
       " '__firstlineno__',\n",
       " '__format__',\n",
       " '__ge__',\n",
       " '__getattribute__',\n",
       " '__getstate__',\n",
       " '__gt__',\n",
       " '__hash__',\n",
       " '__init__',\n",
       " '__init_subclass__',\n",
       " '__le__',\n",
       " '__lt__',\n",
       " '__module__',\n",
       " '__ne__',\n",
       " '__new__',\n",
       " '__reduce__',\n",
       " '__reduce_ex__',\n",
       " '__repr__',\n",
       " '__setattr__',\n",
       " '__sizeof__',\n",
       " '__static_attributes__',\n",
       " '__str__',\n",
       " '__subclasshook__',\n",
       " '__weakref__']"
      ]
     },
     "execution_count": 1,
     "metadata": {},
     "output_type": "execute_result"
    }
   ],
   "source": [
    "class Person:\n",
    "    pass\n",
    "\n",
    "person = Person()\n",
    "\n",
    "dir(person) #gives magic methods"
   ]
  },
  {
   "cell_type": "code",
   "execution_count": 7,
   "id": "eb47c093",
   "metadata": {},
   "outputs": [
    {
     "name": "stdout",
     "output_type": "stream",
     "text": [
      "<__main__.Person object at 0x0000018355692900>\n"
     ]
    }
   ],
   "source": [
    "###Basics Mthods\n",
    "class Person:\n",
    "    def __init__(self,name,age):\n",
    "        self.name = name\n",
    "        self.age = age\n",
    "    \n",
    "    # def __str__(self):\n",
    "    #     return f\"{self.name},{self.age} years old\"\n",
    "\n",
    "person = Person(\"Krish\",34)\n",
    "print(person) \n"
   ]
  }
 ],
 "metadata": {
  "kernelspec": {
   "display_name": "venv",
   "language": "python",
   "name": "python3"
  },
  "language_info": {
   "codemirror_mode": {
    "name": "ipython",
    "version": 3
   },
   "file_extension": ".py",
   "mimetype": "text/x-python",
   "name": "python",
   "nbconvert_exporter": "python",
   "pygments_lexer": "ipython3",
   "version": "3.13.5"
  }
 },
 "nbformat": 4,
 "nbformat_minor": 5
}
