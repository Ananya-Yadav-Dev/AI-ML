{
 "cells": [
  {
   "cell_type": "code",
   "execution_count": null,
   "id": "a1fc73b9",
   "metadata": {},
   "outputs": [
    {
     "name": "stdout",
     "output_type": "stream",
     "text": [
      "Krish\n"
     ]
    },
    {
     "data": {
      "text/plain": [
       "34"
      ]
     },
     "execution_count": 9,
     "metadata": {},
     "output_type": "execute_result"
    }
   ],
   "source": [
    "###Encapsulation with getter and setter methods\n",
    "\n",
    "### Public, protected, private variables or access modifiers\n",
    "\n",
    "class Person:\n",
    "    def __init__(self,name,age,gender):\n",
    "        self.name = name # these instance variables are public variables\n",
    "        self.__age = age  #make it private with double underscore\n",
    "        self._gender = gender #protected\n",
    "\n",
    "def get_age(person):\n",
    "    # return person.__age\n",
    "    return person._Person__age #appear in dir\n",
    " \n",
    "person = Person(\"Krish\",34,\"M\")\n",
    "print(person.name)\n",
    "# print(person.__age) wont be able to access\n",
    "get_age(person)"
   ]
  },
  {
   "cell_type": "code",
   "execution_count": 4,
   "id": "a77cd63f",
   "metadata": {},
   "outputs": [
    {
     "data": {
      "text/plain": [
       "['_Person__age',\n",
       " '__class__',\n",
       " '__delattr__',\n",
       " '__dict__',\n",
       " '__dir__',\n",
       " '__doc__',\n",
       " '__eq__',\n",
       " '__firstlineno__',\n",
       " '__format__',\n",
       " '__ge__',\n",
       " '__getattribute__',\n",
       " '__getstate__',\n",
       " '__gt__',\n",
       " '__hash__',\n",
       " '__init__',\n",
       " '__init_subclass__',\n",
       " '__le__',\n",
       " '__lt__',\n",
       " '__module__',\n",
       " '__ne__',\n",
       " '__new__',\n",
       " '__reduce__',\n",
       " '__reduce_ex__',\n",
       " '__repr__',\n",
       " '__setattr__',\n",
       " '__sizeof__',\n",
       " '__static_attributes__',\n",
       " '__str__',\n",
       " '__subclasshook__',\n",
       " '__weakref__',\n",
       " 'name']"
      ]
     },
     "execution_count": 4,
     "metadata": {},
     "output_type": "execute_result"
    }
   ],
   "source": [
    "dir(person) #see variable publically available"
   ]
  },
  {
   "cell_type": "code",
   "execution_count": 13,
   "id": "1f2996b1",
   "metadata": {},
   "outputs": [
    {
     "name": "stdout",
     "output_type": "stream",
     "text": [
      "Krish\n"
     ]
    }
   ],
   "source": [
    "#protected\n",
    "class Person:\n",
    "    def __init__(self,name,age,gender):\n",
    "        self._name = name \n",
    "        self._age = age  \n",
    "        self._gender = gender #protected\n",
    "    \n",
    "    \n",
    "class Employee(Person):\n",
    "    def __init__(self,name,age,gender):\n",
    "        super().__init__(name,age,gender) #super auto passes self\n",
    "\n",
    "emp = Employee(\"Krish\",34,\"M\")\n",
    "print(emp._name)"
   ]
  },
  {
   "cell_type": "code",
   "execution_count": 15,
   "id": "0dcfe8f0",
   "metadata": {},
   "outputs": [
    {
     "name": "stdout",
     "output_type": "stream",
     "text": [
      "krish\n",
      "Neetoo\n"
     ]
    }
   ],
   "source": [
    "###Encapsulation with getter and setter : To access private we use getter and setter\n",
    "\n",
    "class Person:\n",
    "    def __init__(self,name,age):\n",
    "        self.__name = name\n",
    "        self.__age = age\n",
    "\n",
    "    ## getter method for name\n",
    "    def get_name(self):\n",
    "        return self.__name\n",
    "    \n",
    "    ## setter method for name\n",
    "    def set_name(self, name):\n",
    "        self.__name = name #you can return while assigning python rule\n",
    "\n",
    "person = Person(\"krish\",34)\n",
    "\n",
    "#Access and modify private variables using getter and setter\n",
    "\n",
    "print(person.get_name())\n",
    "person.set_name(\"Neetoo\")\n",
    "print(person.get_name())\n",
    "\n",
    "\n"
   ]
  }
 ],
 "metadata": {
  "kernelspec": {
   "display_name": "venv",
   "language": "python",
   "name": "python3"
  },
  "language_info": {
   "codemirror_mode": {
    "name": "ipython",
    "version": 3
   },
   "file_extension": ".py",
   "mimetype": "text/x-python",
   "name": "python",
   "nbconvert_exporter": "python",
   "pygments_lexer": "ipython3",
   "version": "3.13.5"
  }
 },
 "nbformat": 4,
 "nbformat_minor": 5
}
