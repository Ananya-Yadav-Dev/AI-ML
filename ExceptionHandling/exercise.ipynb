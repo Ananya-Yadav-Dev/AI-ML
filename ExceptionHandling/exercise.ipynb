{
 "cells": [
  {
   "cell_type": "code",
   "execution_count": null,
   "id": "03be28f2",
   "metadata": {},
   "outputs": [
    {
     "name": "stdout",
     "output_type": "stream",
     "text": [
      "division by zero\n"
     ]
    }
   ],
   "source": [
    "try:\n",
    "    num = int(input(\"Enter num:\"))\n",
    "    result = 10/num\n",
    "except Exception as ex:#all exception handling error class are derived from Exception class\n",
    "    print(ex)"
   ]
  },
  {
   "cell_type": "code",
   "execution_count": null,
   "id": "63b042e2",
   "metadata": {},
   "outputs": [
    {
     "name": "stdout",
     "output_type": "stream",
     "text": [
      "The result is 5.0\n"
     ]
    }
   ],
   "source": [
    "try:\n",
    "    num = int(input(\"Enter num:\"))\n",
    "    result = 10/num\n",
    "except NameError:\n",
    "    print(\"Enter a valid number\")\n",
    "except ZeroDivisionError:\n",
    "    print(\"Enter a num greater than zero\")\n",
    "except Exception as ex:\n",
    "    print(ex)\n",
    "else: #will only be executed if there is no error in try block\n",
    "    print(f\"The result is {result}\")"
   ]
  },
  {
   "cell_type": "code",
   "execution_count": 4,
   "id": "e6b35788",
   "metadata": {},
   "outputs": [
    {
     "name": "stdout",
     "output_type": "stream",
     "text": [
      "The result is 3.3333333333333335\n",
      "Execution successfull\n"
     ]
    }
   ],
   "source": [
    "try:\n",
    "    num = int(input(\"Enter num:\"))\n",
    "    result = 10/num\n",
    "except NameError:\n",
    "    print(\"Enter a valid number\")\n",
    "except ZeroDivisionError:\n",
    "    print(\"Enter a num greater than zero\")\n",
    "except Exception as ex:\n",
    "    print(ex)\n",
    "else: #will only be executed if there is no error in try block\n",
    "    print(f\"The result is {result}\")\n",
    "finally: #whether or not theres an error this block will be executed\n",
    "    print(\"Execution successfull\")"
   ]
  },
  {
   "cell_type": "code",
   "execution_count": null,
   "id": "0ec4773b",
   "metadata": {},
   "outputs": [],
   "source": [
    "# Use case:\n",
    "# when connecting to DB in try block\n",
    "# theres error connecting handled by except block\n",
    "# finally at end of the day we need to ensure entire connection is closed so written in finally "
   ]
  },
  {
   "cell_type": "code",
   "execution_count": null,
   "id": "5d8402ce",
   "metadata": {},
   "outputs": [],
   "source": [
    "#Practical example\n",
    "#File handling and exception handling"
   ]
  }
 ],
 "metadata": {
  "kernelspec": {
   "display_name": "venv",
   "language": "python",
   "name": "python3"
  },
  "language_info": {
   "codemirror_mode": {
    "name": "ipython",
    "version": 3
   },
   "file_extension": ".py",
   "mimetype": "text/x-python",
   "name": "python",
   "nbconvert_exporter": "python",
   "pygments_lexer": "ipython3",
   "version": "3.13.5"
  }
 },
 "nbformat": 4,
 "nbformat_minor": 5
}
